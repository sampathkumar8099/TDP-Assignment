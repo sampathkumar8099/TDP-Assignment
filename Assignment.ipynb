{
 "cells": [
  {
   "cell_type": "markdown",
   "id": "8abc88f8-ea1b-44cf-968f-a134b1b1882c",
   "metadata": {},
   "source": [
    "## Task 1: Calculate Area with Conditions\n",
    "##### Write a Python function calculate_area that takes two parameters: length and width. It should calculate and return the area of a rectangle. However, add a condition: if the length is equal to the width, return \"This is a square!\" instead of the area. Then, write a program to input values for length and width from the user and call the calculate_area function to display either the area or the message."
   ]
  },
  {
   "cell_type": "code",
   "execution_count": 1,
   "id": "955b2ea8-97f8-470b-bd3b-24d10b071bf5",
   "metadata": {},
   "outputs": [
    {
     "name": "stdin",
     "output_type": "stream",
     "text": [
      "Enter the value of Lenght 2\n",
      "Enter the value of Breadth 4\n"
     ]
    },
    {
     "name": "stdout",
     "output_type": "stream",
     "text": [
      "The area of a rectangle is 8\n"
     ]
    }
   ],
   "source": [
    "def area(l,b):\n",
    "    if l==b:\n",
    "        return(f\"The area of a square is {l*l} \")\n",
    "    else:\n",
    "        return(f\"The area of a rectangle is {l*b}\")\n",
    "l=int(input(\"Enter the value of Lenght\"))\n",
    "b=int(input(\"Enter the value of Breadth\"))\n",
    "Area = area(l,b)\n",
    "print(Area)"
   ]
  },
  {
   "cell_type": "markdown",
   "id": "23101218-08cf-4b9b-beeb-feed06c1e795",
   "metadata": {},
   "source": [
    "## Task 2: Generate Fibonacci Series\n",
    "#### Problem Statement\n",
    "##### Write a Python program that generates the Fibonacci sequence up to a specified number of terms, n. The Fibonacci sequence starts with 0 and 1, and each subsequent number in the sequence is the sum of the two preceding numbers (e.g., 0, 1, 1, 2, 3, 5, 8, ...). Prompt the user to enter the number of terms (n) they want in the sequence and then display the Fibonacci sequence up to that number of terms."
   ]
  },
  {
   "cell_type": "code",
   "execution_count": 2,
   "id": "bcd15f84-015b-4867-8966-758893f613b2",
   "metadata": {},
   "outputs": [
    {
     "name": "stdin",
     "output_type": "stream",
     "text": [
      "enter the number of fibonacci terms required 10\n"
     ]
    },
    {
     "name": "stdout",
     "output_type": "stream",
     "text": [
      "0\n",
      "1\n",
      "1\n",
      "2\n",
      "3\n",
      "5\n",
      "8\n",
      "13\n",
      "21\n",
      "34\n"
     ]
    }
   ],
   "source": [
    "def fib(n):\n",
    "    a=0\n",
    "    b=1\n",
    "    if n==1:\n",
    "        print(0)\n",
    "    else:\n",
    "        print(0)\n",
    "        print(1)\n",
    "        for i in range(2,n):\n",
    "            c=a+b\n",
    "            a=b\n",
    "            b=c\n",
    "            print(c)\n",
    "n = int(input(\"enter the number of fibonacci terms required\"))\n",
    "fibonacci=fib(n)\n",
    "fibonacci"
   ]
  },
  {
   "cell_type": "code",
   "execution_count": 4,
   "id": "b1040409-8e1a-4203-9c91-eb283d04799c",
   "metadata": {},
   "outputs": [
    {
     "name": "stdin",
     "output_type": "stream",
     "text": [
      "enter the number of fibonacci terms required 10\n"
     ]
    },
    {
     "name": "stdout",
     "output_type": "stream",
     "text": [
      "Fibonacci sequence up to 10 terms: [0, 1, 1, 2, 3, 5, 8, 13, 21, 34]\n"
     ]
    }
   ],
   "source": [
    "def fib(n):\n",
    "    a=0\n",
    "    b=1\n",
    "    fib_series=[]\n",
    "    if n==1:\n",
    "        fib_series.append(0)\n",
    "    else:\n",
    "        fib_series.append(0)\n",
    "        fib_series.append(1)\n",
    "        for i in range(2,n):\n",
    "            c=a+b\n",
    "            a=b\n",
    "            b=c\n",
    "            fib_series.append(c)\n",
    "    return fib_series\n",
    "      \n",
    "n = int(input(\"enter the number of fibonacci terms required\"))\n",
    "fibonacci=fib(n)\n",
    "print(f\"Fibonacci sequence up to {n} terms: {fibonacci}\")\n",
    "        "
   ]
  },
  {
   "cell_type": "markdown",
   "id": "c2b6c2f9-6c3b-4fad-93d6-db5f543b60b2",
   "metadata": {},
   "source": [
    "## Task 3: MySQL Database Operations with Python ( Compulsory )\n",
    "#### Problem Statement:\n",
    "##### Your task is to write a Python program that accomplishes the following: First create a database , table and add these column ‘student_id’, ‘first_name’, ‘last_name’, ‘age’, ‘grade’. Connects to your MySQL database with python. Inserts a new student record into the \"students\" table with the following details: First Name: \"Alice\" Last Name: \"Smith\" Age: 18 Grade: 95.5 Updates the grade of the student with the first name \"Alice\" to 97.0. Deletes the student with the last name \"Smith.\" Fetches and displays all student records from the \"students\" table.\"\"\"\""
   ]
  },
  {
   "cell_type": "code",
   "execution_count": 3,
   "id": "006f5161-b296-4475-9fe1-6a8b33fea026",
   "metadata": {},
   "outputs": [
    {
     "name": "stdout",
     "output_type": "stream",
     "text": [
      "Connected to the MySQL database\n",
      "Table 'students' created\n",
      "Inserted a new student record\n",
      "Updated the grade of the student named Alice\n",
      "Deleted the student with the last name Smith\n",
      "\n",
      "All student records:\n",
      "Connection closed\n"
     ]
    }
   ],
   "source": [
    "import mysql.connector\n",
    "\n",
    "host = \"localhost\"\n",
    "user = \"root\"\n",
    "password = \"B@lu8099\"\n",
    "database = \"task\"\n",
    "\n",
    "try:\n",
    "    # Connecting to the MySQL database of local host\n",
    "    connection = mysql.connector.connect(\n",
    "        host=host,\n",
    "        user=user,\n",
    "        password=password,\n",
    "        database=database\n",
    "    )\n",
    "\n",
    "    if connection.is_connected():\n",
    "        print(\"Connected to the MySQL database\")\n",
    "\n",
    "        # Creating a cursor object which will execute the SQL queries\n",
    "        cursor = connection.cursor()\n",
    "\n",
    "        # Create a table if it doesn't exist\n",
    "        create_table_query = \"\"\"\n",
    "        CREATE TABLE IF NOT EXISTS students (\n",
    "            student_id INT AUTO_INCREMENT PRIMARY KEY,\n",
    "            first_name VARCHAR(255),\n",
    "            last_name VARCHAR(255),\n",
    "            age INT,\n",
    "            grade FLOAT\n",
    "        );\n",
    "        \"\"\"\n",
    "        cursor.execute(create_table_query)\n",
    "        print(\"Table 'students' created\")\n",
    "\n",
    "        # Insert a new student record\n",
    "        insert_query = \"\"\"\n",
    "        INSERT INTO students (first_name, last_name, age, grade)\n",
    "        VALUES ('Alice', 'Smith', 18, 95.5);\n",
    "        \"\"\"\n",
    "        cursor.execute(insert_query)\n",
    "        print(\"Inserted a new student record\")\n",
    "\n",
    "        # Update the grade of the student with the first name \"Alice\"\n",
    "        update_query = \"\"\"\n",
    "        UPDATE students\n",
    "        SET grade = 97.0\n",
    "        WHERE first_name = 'Alice';\n",
    "        \"\"\"\n",
    "        cursor.execute(update_query)\n",
    "        print(\"Updated the grade of the student named Alice\")\n",
    "\n",
    "        # Delete the student with the last name \"Smith\"\n",
    "        delete_query = \"\"\"\n",
    "        DELETE FROM students\n",
    "        WHERE last_name = 'Smith';\n",
    "        \"\"\"\n",
    "        cursor.execute(delete_query)\n",
    "        print(\"Deleted the student with the last name Smith\")\n",
    "\n",
    "        # Fetch and display all student records\n",
    "        select_all_query = \"SELECT * FROM students;\"\n",
    "        cursor.execute(select_all_query)\n",
    "        results = cursor.fetchall()\n",
    "\n",
    "        print(\"\\nAll student records:\")\n",
    "        for row in results:\n",
    "            print(row)\n",
    "\n",
    "except mysql.connector.Error as err:\n",
    "    print(f\"Error: {err}\")\n",
    "\n",
    "finally:\n",
    "    if 'connection' in locals():\n",
    "        # Close the cursor and connection in the end\n",
    "        if 'cursor' in locals():\n",
    "            cursor.close()\n",
    "        connection.close()\n",
    "        print(\"Connection closed\")\n"
   ]
  },
  {
   "cell_type": "markdown",
   "id": "a7e7d92e-8802-409c-afe9-3ffeeb366f65",
   "metadata": {},
   "source": [
    "## I have recently installed mysql-connector-python in another notebook by using command \n",
    "### pip install mysql-connector-python\n",
    "\n"
   ]
  },
  {
   "cell_type": "code",
   "execution_count": null,
   "id": "6b3b63e4-2305-451b-907a-30ff2b70c563",
   "metadata": {},
   "outputs": [],
   "source": []
  },
  {
   "cell_type": "code",
   "execution_count": null,
   "id": "3ea81207-fb31-4d72-bfe6-72093740ed61",
   "metadata": {},
   "outputs": [],
   "source": []
  },
  {
   "cell_type": "code",
   "execution_count": null,
   "id": "d1f73c58-ab3a-4815-ab24-3a823424b32f",
   "metadata": {},
   "outputs": [],
   "source": []
  }
 ],
 "metadata": {
  "kernelspec": {
   "display_name": "Python 3 (ipykernel)",
   "language": "python",
   "name": "python3"
  },
  "language_info": {
   "codemirror_mode": {
    "name": "ipython",
    "version": 3
   },
   "file_extension": ".py",
   "mimetype": "text/x-python",
   "name": "python",
   "nbconvert_exporter": "python",
   "pygments_lexer": "ipython3",
   "version": "3.11.7"
  }
 },
 "nbformat": 4,
 "nbformat_minor": 5
}
